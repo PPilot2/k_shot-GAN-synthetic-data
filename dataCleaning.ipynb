{
 "cells": [
  {
   "cell_type": "markdown",
   "id": "516f29d1-035e-4a5b-bcfa-56e55a848fd6",
   "metadata": {},
   "source": [
    "### This file will generate a cleaned dataset that is used throughout the project.  "
   ]
  },
  {
   "cell_type": "code",
   "execution_count": null,
   "id": "e2479c00-d40f-4882-802e-9e956a5aca3a",
   "metadata": {},
   "outputs": [],
   "source": [
    "!pip install datasets"
   ]
  },
  {
   "cell_type": "code",
   "execution_count": 6,
   "id": "eab74baa-d7fd-4158-8a7a-bf7471875e45",
   "metadata": {},
   "outputs": [],
   "source": [
    "from datasets import load_dataset, load_from_disk, load_dataset, Dataset, DatasetDict"
   ]
  },
  {
   "cell_type": "code",
   "execution_count": 10,
   "id": "8f813556-f8b2-4979-9c30-fa9d2db04076",
   "metadata": {},
   "outputs": [],
   "source": [
    "def fixLabels (example):\n",
    "  if example['label'] == 4:\n",
    "    example['label'] = 1\n",
    "  return example\n",
    "\n",
    "def dropsTwos(example):\n",
    "  return example['label'] != 2"
   ]
  },
  {
   "cell_type": "code",
   "execution_count": 11,
   "id": "0ad11096-acdf-4f0b-8921-abae86141bed",
   "metadata": {},
   "outputs": [],
   "source": [
    "#Load dataset, delete unncessary columns, and normalize the labels. \n",
    "dataset = load_dataset(\"sentiment140\")\n",
    "dataset = dataset.remove_columns([\"date\", \"user\", \"query\"])\n",
    "dataset = dataset.rename_column(\"sentiment\", \"label\")\n",
    "dataset = dataset.map(fixLabels, batched=False)\n",
    "dataset = dataset.filter(filter_twos)"
   ]
  },
  {
   "cell_type": "code",
   "execution_count": 13,
   "id": "0c074f35-daf2-4a14-b72b-5cc035fade7b",
   "metadata": {},
   "outputs": [
    {
     "data": {
      "text/plain": [
       "DatasetDict({\n",
       "    train: Dataset({\n",
       "        features: ['text', 'label'],\n",
       "        num_rows: 1600000\n",
       "    })\n",
       "    test: Dataset({\n",
       "        features: ['text', 'label'],\n",
       "        num_rows: 359\n",
       "    })\n",
       "})"
      ]
     },
     "execution_count": 13,
     "metadata": {},
     "output_type": "execute_result"
    }
   ],
   "source": [
    "dataset"
   ]
  },
  {
   "cell_type": "code",
   "execution_count": 12,
   "id": "3b59b7be-d0ed-40da-8ca6-1fe3d86eef27",
   "metadata": {},
   "outputs": [
    {
     "data": {
      "text/plain": [
       "{'train': [0, 1], 'test': [1, 0]}"
      ]
     },
     "execution_count": 12,
     "metadata": {},
     "output_type": "execute_result"
    }
   ],
   "source": [
    "#Now the dataset only contains 0s (negative) and 1s (positive)\n",
    "dataset.unique(\"label\")"
   ]
  },
  {
   "cell_type": "markdown",
   "id": "d7014ae0-5262-492d-a90e-f9e59baa6973",
   "metadata": {},
   "source": [
    "#### Saving the dataset"
   ]
  },
  {
   "cell_type": "code",
   "execution_count": null,
   "id": "401aba58-ad48-4512-a82e-6e6ffd51b9d2",
   "metadata": {},
   "outputs": [],
   "source": [
    "dataset.save_to_disk(\"dataset\")"
   ]
  },
  {
   "cell_type": "code",
   "execution_count": 15,
   "id": "99a297f8-235a-49a1-9fa7-d749f41e0e5c",
   "metadata": {},
   "outputs": [
    {
     "data": {
      "text/plain": [
       "DatasetDict({\n",
       "    train: Dataset({\n",
       "        features: ['text', 'label'],\n",
       "        num_rows: 1600000\n",
       "    })\n",
       "    test: Dataset({\n",
       "        features: ['text', 'label'],\n",
       "        num_rows: 359\n",
       "    })\n",
       "})"
      ]
     },
     "execution_count": 15,
     "metadata": {},
     "output_type": "execute_result"
    }
   ],
   "source": [
    "DatasetDict.load_from_disk(\"dataset\")"
   ]
  },
  {
   "cell_type": "markdown",
   "id": "bbb3c209-8e59-456f-a0d6-1ac163134a88",
   "metadata": {},
   "source": [
    "We now have a cleaned dataset that is easily loadable from our project. You may need to adjust the location of this file based on where your notebook is located. "
   ]
  },
  {
   "cell_type": "code",
   "execution_count": null,
   "id": "5f2de72a-858e-47d0-be13-8297fbc380a2",
   "metadata": {},
   "outputs": [],
   "source": []
  }
 ],
 "metadata": {
  "kernelspec": {
   "display_name": "Python 3 (ipykernel)",
   "language": "python",
   "name": "python3"
  },
  "language_info": {
   "codemirror_mode": {
    "name": "ipython",
    "version": 3
   },
   "file_extension": ".py",
   "mimetype": "text/x-python",
   "name": "python",
   "nbconvert_exporter": "python",
   "pygments_lexer": "ipython3",
   "version": "3.10.12"
  }
 },
 "nbformat": 4,
 "nbformat_minor": 5
}
